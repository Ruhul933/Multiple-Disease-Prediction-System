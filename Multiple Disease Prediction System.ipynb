{
 "cells": [
  {
   "cell_type": "code",
   "execution_count": 4,
   "id": "0844f4fb-a104-4ca6-914e-7550aaf91c25",
   "metadata": {},
   "outputs": [],
   "source": [
    "# Step 1: Import Libraries\n",
    "import numpy as np\n",
    "import pandas as pd\n",
    "import pickle\n",
    "import sklearn.datasets"
   ]
  },
  {
   "cell_type": "code",
   "execution_count": 5,
   "id": "b4d54f82-8353-4eb7-a96e-e5f421acf289",
   "metadata": {},
   "outputs": [],
   "source": [
    "# Step 2: Load Pre-trained Models\n",
    "diabetes_model = pickle.load(open('diabetes_model.sav', 'rb'))\n",
    "heart_disease_model = pickle.load(open('heart_disease_model.sav', 'rb'))\n",
    "parkinsons_model = pickle.load(open('parkinsons_model.sav', 'rb'))\n",
    "breast_cancer_model = pickle.load(open('breast_cancer_model.sav', 'rb'))"
   ]
  },
  {
   "cell_type": "code",
   "execution_count": 6,
   "id": "93fcc391-f069-4857-9b2c-27e2193faa58",
   "metadata": {},
   "outputs": [
    {
     "name": "stdout",
     "output_type": "stream",
     "text": [
      "✅ Models and feature structures loaded successfully!\n"
     ]
    }
   ],
   "source": [
    "breast_cancer_dataset = sklearn.datasets.load_breast_cancer()\n",
    "breast_cancer_features = breast_cancer_dataset.feature_names\n",
    "\n",
    "parkinsons_data = pd.read_csv(\"C:/Users/91902/Downloads/parkinsons.csv\")\n",
    "parkinsons_features = parkinsons_data.drop(columns=['name', 'status'], axis=1).columns\n",
    "\n",
    "diabetes_dataset = pd.read_csv(\"C:/Users/91902/Downloads/diabetes.csv\")\n",
    "diabetes_features = diabetes_dataset.drop('Outcome', axis=1).columns\n",
    "\n",
    "heart_data = pd.read_csv(\"C:/Users/91902/Downloads/heart.csv\")\n",
    "heart_features = heart_data.drop('target', axis=1).columns\n",
    "\n",
    "print(\"✅ Models and feature structures loaded successfully!\")"
   ]
  },
  {
   "cell_type": "code",
   "execution_count": 10,
   "id": "27c8cb2c-89ae-45bb-a4f4-1d4551d6a524",
   "metadata": {},
   "outputs": [
    {
     "name": "stdout",
     "output_type": "stream",
     "text": [
      "\n",
      "=== Multiple Disease Prediction Menu ===\n",
      "1. Diabetes Prediction\n",
      "2. Heart Disease Prediction\n",
      "3. Parkinson's Disease Prediction\n",
      "4. Breast Cancer Prediction\n",
      "5. Exit\n"
     ]
    },
    {
     "name": "stdin",
     "output_type": "stream",
     "text": [
      "Enter your choice (1-5):  5\n"
     ]
    },
    {
     "name": "stdout",
     "output_type": "stream",
     "text": [
      "✅ Exiting the program. Stay healthy!\n"
     ]
    }
   ],
   "source": [
    "while True:\n",
    "    print(\"\\n=== Multiple Disease Prediction Menu ===\")\n",
    "    print(\"1. Diabetes Prediction\")\n",
    "    print(\"2. Heart Disease Prediction\")\n",
    "    print(\"3. Parkinson's Disease Prediction\")\n",
    "    print(\"4. Breast Cancer Prediction\")\n",
    "    print(\"5. Exit\")\n",
    "\n",
    "    choice = input(\"Enter your choice (1-5): \")\n",
    "\n",
    "    if choice == '1':\n",
    "        print(\"\\n--- Diabetes Prediction ---\")\n",
    "        input_values = []\n",
    "        for feature in diabetes_features:\n",
    "            value = float(input(f\"Enter {feature}: \"))\n",
    "            input_values.append(value)\n",
    "        prediction = diabetes_model.predict(np.array([input_values]))\n",
    "        print(\"🔴 Diabetic\" if prediction[0] == 1 else \"🟢 Non-Diabetic\")\n",
    "\n",
    "    elif choice == '2':\n",
    "        print(\"\\n--- Heart Disease Prediction ---\")\n",
    "        input_values = []\n",
    "        for feature in heart_features:\n",
    "            value = float(input(f\"Enter {feature}: \"))\n",
    "            input_values.append(value)\n",
    "        prediction = heart_disease_model.predict(np.array([input_values]))\n",
    "        print(\"🔴 Likely Heart Disease\" if prediction[0] == 1 else \"🟢 Unlikely Heart Disease\")\n",
    "\n",
    "    elif choice == '3':\n",
    "        print(\"\\n--- Parkinson's Disease Prediction ---\")\n",
    "        input_values = []\n",
    "        for feature in parkinsons_features:\n",
    "            value = float(input(f\"Enter {feature}: \"))\n",
    "            input_values.append(value)\n",
    "        prediction = parkinsons_model.predict(np.array([input_values]))\n",
    "        print(\"🔴 Parkinson's Detected\" if prediction[0] == 1 else \"🟢 No Disease FOund\")\n",
    "\n",
    "    elif choice == '4':\n",
    "        print(\"\\n--- Breast Cancer Prediction ---\")\n",
    "        input_values = []\n",
    "        for feature in breast_cancer_features:\n",
    "            value = float(input(f\"Enter {feature}: \"))\n",
    "            input_values.append(value)\n",
    "        prediction = breast_cancer_model.predict(np.array([input_values]))\n",
    "        print(\"🔴 Malignant (Cancer)\" if prediction[0] == 0 else \"🟢 Benign (Semi-Cancerous)\")\n",
    "\n",
    "    elif choice == '5':\n",
    "        print(\"✅ Exiting the program. Stay healthy!\")\n",
    "        break\n",
    "\n",
    "    else:\n",
    "        print(\"❌ Invalid option. Please choose between 1 and 5.\")\n"
   ]
  },
  {
   "cell_type": "code",
   "execution_count": null,
   "id": "3ca5ddd0-345d-4a9e-bb42-f76257e79bbe",
   "metadata": {},
   "outputs": [],
   "source": []
  }
 ],
 "metadata": {
  "kernelspec": {
   "display_name": "Python 3 (ipykernel)",
   "language": "python",
   "name": "python3"
  },
  "language_info": {
   "codemirror_mode": {
    "name": "ipython",
    "version": 3
   },
   "file_extension": ".py",
   "mimetype": "text/x-python",
   "name": "python",
   "nbconvert_exporter": "python",
   "pygments_lexer": "ipython3",
   "version": "3.12.7"
  }
 },
 "nbformat": 4,
 "nbformat_minor": 5
}
